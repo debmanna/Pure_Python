{
 "cells": [
  {
   "cell_type": "code",
   "execution_count": 1,
   "id": "f3ddc672",
   "metadata": {},
   "outputs": [
    {
     "data": {
      "text/plain": [
       "int"
      ]
     },
     "execution_count": 1,
     "metadata": {},
     "output_type": "execute_result"
    }
   ],
   "source": [
    "y=0\n",
    "type(y)"
   ]
  },
  {
   "cell_type": "code",
   "execution_count": 2,
   "id": "2eca3a1d",
   "metadata": {},
   "outputs": [
    {
     "data": {
      "text/plain": [
       "complex"
      ]
     },
     "execution_count": 2,
     "metadata": {},
     "output_type": "execute_result"
    }
   ],
   "source": [
    "y=0j\n",
    "type(y)"
   ]
  },
  {
   "cell_type": "markdown",
   "id": "c05337bb",
   "metadata": {},
   "source": [
    "### Rules for naming the variables"
   ]
  },
  {
   "cell_type": "markdown",
   "id": "25c54758",
   "metadata": {},
   "source": [
    "##### variable names can strat with A to Z, a to z or _\n",
    "##### Space is NOT allowed\n",
    "##### Only allowed special character is _\n",
    "##### It should not start with a number\n",
    "##### Case Sensitive"
   ]
  },
  {
   "cell_type": "code",
   "execution_count": null,
   "id": "448ef223",
   "metadata": {},
   "outputs": [],
   "source": []
  }
 ],
 "metadata": {
  "kernelspec": {
   "display_name": "Python 3 (ipykernel)",
   "language": "python",
   "name": "python3"
  },
  "language_info": {
   "codemirror_mode": {
    "name": "ipython",
    "version": 3
   },
   "file_extension": ".py",
   "mimetype": "text/x-python",
   "name": "python",
   "nbconvert_exporter": "python",
   "pygments_lexer": "ipython3",
   "version": "3.9.7"
  }
 },
 "nbformat": 4,
 "nbformat_minor": 5
}
